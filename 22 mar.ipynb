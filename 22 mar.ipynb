{
 "cells": [
  {
   "cell_type": "code",
   "execution_count": 57,
   "id": "f6c2667b-d3ae-4718-bea2-72b8318816fb",
   "metadata": {},
   "outputs": [],
   "source": [
    "import pandas as pd\n",
    "import numpy as np\n",
    "import seaborn as sb\n",
    "from sklearn.preprocessing import LabelEncoder"
   ]
  },
  {
   "cell_type": "code",
   "execution_count": 13,
   "id": "280bf2f4-8f4d-4117-b479-c9a8e9056bb2",
   "metadata": {},
   "outputs": [
    {
     "data": {
      "text/html": [
       "<div>\n",
       "<style scoped>\n",
       "    .dataframe tbody tr th:only-of-type {\n",
       "        vertical-align: middle;\n",
       "    }\n",
       "\n",
       "    .dataframe tbody tr th {\n",
       "        vertical-align: top;\n",
       "    }\n",
       "\n",
       "    .dataframe thead th {\n",
       "        text-align: right;\n",
       "    }\n",
       "</style>\n",
       "<table border=\"1\" class=\"dataframe\">\n",
       "  <thead>\n",
       "    <tr style=\"text-align: right;\">\n",
       "      <th></th>\n",
       "      <th>time</th>\n",
       "      <th>marks</th>\n",
       "    </tr>\n",
       "  </thead>\n",
       "  <tbody>\n",
       "    <tr>\n",
       "      <th>time</th>\n",
       "      <td>1.0</td>\n",
       "      <td>1.0</td>\n",
       "    </tr>\n",
       "    <tr>\n",
       "      <th>marks</th>\n",
       "      <td>1.0</td>\n",
       "      <td>1.0</td>\n",
       "    </tr>\n",
       "  </tbody>\n",
       "</table>\n",
       "</div>"
      ],
      "text/plain": [
       "       time  marks\n",
       "time    1.0    1.0\n",
       "marks   1.0    1.0"
      ]
     },
     "execution_count": 13,
     "metadata": {},
     "output_type": "execute_result"
    }
   ],
   "source": [
    "#Ans1: \n",
    "time=np.linspace(3,5,num=10)\n",
    "marks=np.linspace(30,80,num=10)\n",
    "df=pd.DataFrame({'time':time,'marks':marks})\n",
    "df.corr('pearson')"
   ]
  },
  {
   "cell_type": "code",
   "execution_count": 14,
   "id": "d4f411c2-cd63-46b5-ad50-bbe9da8f12a9",
   "metadata": {},
   "outputs": [
    {
     "data": {
      "text/plain": [
       "'The above example shows the data of students who studied and got some marks the two columns were used time column\\n    shows how much the students studied before exams and marks column shows how much marks they got in the exam.\\n    Now the correlation is found between the time and marks and the value of pearson correlation is 1 which shows\\n    that there is very strong relatiion between the marks and time given to studies i.e. the larger is the value of \\n    time given then the greater is the marks the student got.\\n'"
      ]
     },
     "execution_count": 14,
     "metadata": {},
     "output_type": "execute_result"
    }
   ],
   "source": [
    "'''The above example shows the data of students who studied and got some marks the two columns were used time column\n",
    "    shows how much the students studied before exams and marks column shows how much marks they got in the exam.\n",
    "    Now the correlation is found between the time and marks and the value of pearson correlation is 1 which shows\n",
    "    that there is very strong relatiion between the marks and time given to studies i.e. the larger is the value of \n",
    "    time given then the greater is the marks the student got.\n",
    "'''\n"
   ]
  },
  {
   "cell_type": "code",
   "execution_count": 27,
   "id": "3cb98102-b521-4c6b-a24e-2bbe4d5391f3",
   "metadata": {},
   "outputs": [
    {
     "data": {
      "text/html": [
       "<div>\n",
       "<style scoped>\n",
       "    .dataframe tbody tr th:only-of-type {\n",
       "        vertical-align: middle;\n",
       "    }\n",
       "\n",
       "    .dataframe tbody tr th {\n",
       "        vertical-align: top;\n",
       "    }\n",
       "\n",
       "    .dataframe thead th {\n",
       "        text-align: right;\n",
       "    }\n",
       "</style>\n",
       "<table border=\"1\" class=\"dataframe\">\n",
       "  <thead>\n",
       "    <tr style=\"text-align: right;\">\n",
       "      <th></th>\n",
       "      <th>sleep</th>\n",
       "      <th>rating</th>\n",
       "    </tr>\n",
       "  </thead>\n",
       "  <tbody>\n",
       "    <tr>\n",
       "      <th>sleep</th>\n",
       "      <td>1.000000</td>\n",
       "      <td>0.104234</td>\n",
       "    </tr>\n",
       "    <tr>\n",
       "      <th>rating</th>\n",
       "      <td>0.104234</td>\n",
       "      <td>1.000000</td>\n",
       "    </tr>\n",
       "  </tbody>\n",
       "</table>\n",
       "</div>"
      ],
      "text/plain": [
       "           sleep    rating\n",
       "sleep   1.000000  0.104234\n",
       "rating  0.104234  1.000000"
      ]
     },
     "execution_count": 27,
     "metadata": {},
     "output_type": "execute_result"
    }
   ],
   "source": [
    "hrs_sleep=np.random.normal(loc=5,scale=1,size=15)\n",
    "rating=np.random.randint(1,high=10,size=15)\n",
    "emp_df=pd.DataFrame({'sleep':hrs_sleep,'rating':rating})\n",
    "emp_df.corr('spearman')"
   ]
  },
  {
   "cell_type": "code",
   "execution_count": 28,
   "id": "92f8d526-d116-48d4-9050-c0b349e169d6",
   "metadata": {},
   "outputs": [
    {
     "data": {
      "text/plain": [
       "' In the above example there are two columns in a database sleep and rating the random sample of 15 is taken from \\n    and employee data and the correlation using spearman it is found to be 0.104234 which is the positive value and\\n    this denotes that there is weak relation between teh sleep and the rating given by the employee\\n'"
      ]
     },
     "execution_count": 28,
     "metadata": {},
     "output_type": "execute_result"
    }
   ],
   "source": [
    "''' In the above example there are two columns in a database sleep and rating the random sample of 15 is taken from \n",
    "    and employee data and the correlation using spearman it is found to be 0.104234 which is the positive value and\n",
    "    this denotes that there is weak relation between teh sleep and the rating given by the employee\n",
    "'''"
   ]
  },
  {
   "cell_type": "code",
   "execution_count": 37,
   "id": "2013a03a-cd8d-4460-9c80-12bc0f3d1408",
   "metadata": {},
   "outputs": [],
   "source": [
    "#Ans3:\n",
    "hrs_ex=np.random.normal(loc=4,scale=1,size=50)\n",
    "bmi=np.random.normal(loc=23,scale=2,size=50)\n",
    "ex_df=pd.DataFrame({'Hours_of_exercise':hrs_ex,'BMI':bmi})"
   ]
  },
  {
   "cell_type": "code",
   "execution_count": 38,
   "id": "984b1ea4-0573-4e16-a824-1725719e65fb",
   "metadata": {},
   "outputs": [
    {
     "data": {
      "text/html": [
       "<div>\n",
       "<style scoped>\n",
       "    .dataframe tbody tr th:only-of-type {\n",
       "        vertical-align: middle;\n",
       "    }\n",
       "\n",
       "    .dataframe tbody tr th {\n",
       "        vertical-align: top;\n",
       "    }\n",
       "\n",
       "    .dataframe thead th {\n",
       "        text-align: right;\n",
       "    }\n",
       "</style>\n",
       "<table border=\"1\" class=\"dataframe\">\n",
       "  <thead>\n",
       "    <tr style=\"text-align: right;\">\n",
       "      <th></th>\n",
       "      <th>Hours_of_exercise</th>\n",
       "      <th>BMI</th>\n",
       "    </tr>\n",
       "  </thead>\n",
       "  <tbody>\n",
       "    <tr>\n",
       "      <th>Hours_of_exercise</th>\n",
       "      <td>1.000000</td>\n",
       "      <td>0.061192</td>\n",
       "    </tr>\n",
       "    <tr>\n",
       "      <th>BMI</th>\n",
       "      <td>0.061192</td>\n",
       "      <td>1.000000</td>\n",
       "    </tr>\n",
       "  </tbody>\n",
       "</table>\n",
       "</div>"
      ],
      "text/plain": [
       "                   Hours_of_exercise       BMI\n",
       "Hours_of_exercise           1.000000  0.061192\n",
       "BMI                         0.061192  1.000000"
      ]
     },
     "execution_count": 38,
     "metadata": {},
     "output_type": "execute_result"
    }
   ],
   "source": [
    "ex_df.corr('pearson')"
   ]
  },
  {
   "cell_type": "code",
   "execution_count": 39,
   "id": "d808a3da-787a-4a2b-bea0-ec9b0b020521",
   "metadata": {},
   "outputs": [
    {
     "data": {
      "text/html": [
       "<div>\n",
       "<style scoped>\n",
       "    .dataframe tbody tr th:only-of-type {\n",
       "        vertical-align: middle;\n",
       "    }\n",
       "\n",
       "    .dataframe tbody tr th {\n",
       "        vertical-align: top;\n",
       "    }\n",
       "\n",
       "    .dataframe thead th {\n",
       "        text-align: right;\n",
       "    }\n",
       "</style>\n",
       "<table border=\"1\" class=\"dataframe\">\n",
       "  <thead>\n",
       "    <tr style=\"text-align: right;\">\n",
       "      <th></th>\n",
       "      <th>Hours_of_exercise</th>\n",
       "      <th>BMI</th>\n",
       "    </tr>\n",
       "  </thead>\n",
       "  <tbody>\n",
       "    <tr>\n",
       "      <th>Hours_of_exercise</th>\n",
       "      <td>1.000000</td>\n",
       "      <td>0.149004</td>\n",
       "    </tr>\n",
       "    <tr>\n",
       "      <th>BMI</th>\n",
       "      <td>0.149004</td>\n",
       "      <td>1.000000</td>\n",
       "    </tr>\n",
       "  </tbody>\n",
       "</table>\n",
       "</div>"
      ],
      "text/plain": [
       "                   Hours_of_exercise       BMI\n",
       "Hours_of_exercise           1.000000  0.149004\n",
       "BMI                         0.149004  1.000000"
      ]
     },
     "execution_count": 39,
     "metadata": {},
     "output_type": "execute_result"
    }
   ],
   "source": [
    "ex_df.corr('spearman')"
   ]
  },
  {
   "cell_type": "code",
   "execution_count": 40,
   "id": "3d1ea41e-64f8-4dd9-acd0-b1722048805f",
   "metadata": {},
   "outputs": [
    {
     "data": {
      "text/plain": [
       "' The spearman correlation technique shows more strong relation between the hours of exercise and bmi while the\\n    pearson shows the value lesser then the spearman and the hours of exercise has weaker then the spearman shows.\\n'"
      ]
     },
     "execution_count": 40,
     "metadata": {},
     "output_type": "execute_result"
    }
   ],
   "source": [
    "''' The spearman correlation technique shows more strong relation between the hours of exercise and bmi while the\n",
    "    pearson shows the value lesser then the spearman and the hours of exercise has weaker then the spearman shows.\n",
    "'''"
   ]
  },
  {
   "cell_type": "code",
   "execution_count": 53,
   "id": "25bca707-88fb-4322-8602-bb8b922221a8",
   "metadata": {},
   "outputs": [
    {
     "data": {
      "text/plain": [
       "-0.12952128705941626"
      ]
     },
     "execution_count": 53,
     "metadata": {},
     "output_type": "execute_result"
    }
   ],
   "source": [
    "#Ans 4\n",
    "tele_hrs=np.random.normal(loc=3,scale=1,size=50)\n",
    "phy_level=np.random.randint(1,high=10,size=50)\n",
    "tele_df=pd.DataFrame({'tele_hrs':tele_hrs,'phy_level':phy_level})\n",
    "tele_df.corr('pearson')['phy_level']['tele_hrs']"
   ]
  },
  {
   "cell_type": "code",
   "execution_count": 54,
   "id": "117e341f-63a9-45ae-8371-49a7f3c90e4f",
   "metadata": {},
   "outputs": [],
   "source": [
    "#Ans5:\n",
    "data=pd.DataFrame({'Age':[25,42,37,19,31,28],'Soft drink preference':['coke','pepsi','mountain dew','coke','pepsi','coke']})\n"
   ]
  },
  {
   "cell_type": "code",
   "execution_count": 61,
   "id": "5876ead9-70bf-4512-a156-01dbcab4734e",
   "metadata": {},
   "outputs": [],
   "source": [
    "lable=LabelEncoder()"
   ]
  },
  {
   "cell_type": "code",
   "execution_count": 63,
   "id": "43d0def6-5433-4091-b174-ff6a086831d5",
   "metadata": {},
   "outputs": [],
   "source": [
    "data['drink encode']=lable.fit_transform(data['Soft drink preference'])"
   ]
  },
  {
   "cell_type": "code",
   "execution_count": 65,
   "id": "8fc5aed7-fe9e-4da1-a539-2f6766aade66",
   "metadata": {},
   "outputs": [
    {
     "name": "stderr",
     "output_type": "stream",
     "text": [
      "/tmp/ipykernel_84/4020818503.py:1: FutureWarning: The default value of numeric_only in DataFrame.cov is deprecated. In a future version, it will default to False. Select only valid columns or specify the value of numeric_only to silence this warning.\n",
      "  data.cov()\n"
     ]
    },
    {
     "data": {
      "text/html": [
       "<div>\n",
       "<style scoped>\n",
       "    .dataframe tbody tr th:only-of-type {\n",
       "        vertical-align: middle;\n",
       "    }\n",
       "\n",
       "    .dataframe tbody tr th {\n",
       "        vertical-align: top;\n",
       "    }\n",
       "\n",
       "    .dataframe thead th {\n",
       "        text-align: right;\n",
       "    }\n",
       "</style>\n",
       "<table border=\"1\" class=\"dataframe\">\n",
       "  <thead>\n",
       "    <tr style=\"text-align: right;\">\n",
       "      <th></th>\n",
       "      <th>Age</th>\n",
       "      <th>drink encode</th>\n",
       "    </tr>\n",
       "  </thead>\n",
       "  <tbody>\n",
       "    <tr>\n",
       "      <th>Age</th>\n",
       "      <td>68.666667</td>\n",
       "      <td>6.266667</td>\n",
       "    </tr>\n",
       "    <tr>\n",
       "      <th>drink encode</th>\n",
       "      <td>6.266667</td>\n",
       "      <td>0.966667</td>\n",
       "    </tr>\n",
       "  </tbody>\n",
       "</table>\n",
       "</div>"
      ],
      "text/plain": [
       "                    Age  drink encode\n",
       "Age           68.666667      6.266667\n",
       "drink encode   6.266667      0.966667"
      ]
     },
     "execution_count": 65,
     "metadata": {},
     "output_type": "execute_result"
    }
   ],
   "source": [
    "data.cov()"
   ]
  },
  {
   "cell_type": "code",
   "execution_count": null,
   "id": "4427c595-3a5c-4ea6-bb42-3bad25b4b8f4",
   "metadata": {},
   "outputs": [],
   "source": []
  }
 ],
 "metadata": {
  "kernelspec": {
   "display_name": "Python 3 (ipykernel)",
   "language": "python",
   "name": "python3"
  },
  "language_info": {
   "codemirror_mode": {
    "name": "ipython",
    "version": 3
   },
   "file_extension": ".py",
   "mimetype": "text/x-python",
   "name": "python",
   "nbconvert_exporter": "python",
   "pygments_lexer": "ipython3",
   "version": "3.10.8"
  }
 },
 "nbformat": 4,
 "nbformat_minor": 5
}
